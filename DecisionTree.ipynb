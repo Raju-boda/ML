{
  "nbformat": 4,
  "nbformat_minor": 0,
  "metadata": {
    "colab": {
      "provenance": [],
      "mount_file_id": "1DMv8_QFavFb1NPekAAyBhwcBmSiRnbhz",
      "authorship_tag": "ABX9TyO90rJ0Q6CjiMJ+4+n+8d6B",
      "include_colab_link": true
    },
    "kernelspec": {
      "name": "python3",
      "display_name": "Python 3"
    },
    "language_info": {
      "name": "python"
    }
  },
  "cells": [
    {
      "cell_type": "markdown",
      "metadata": {
        "id": "view-in-github",
        "colab_type": "text"
      },
      "source": [
        "<a href=\"https://colab.research.google.com/github/Raju-boda/ML/blob/main/DecisionTree.ipynb\" target=\"_parent\"><img src=\"https://colab.research.google.com/assets/colab-badge.svg\" alt=\"Open In Colab\"/></a>"
      ]
    },
    {
      "cell_type": "code",
      "execution_count": 2,
      "metadata": {
        "colab": {
          "base_uri": "https://localhost:8080/"
        },
        "id": "8fY-AzE9CE1q",
        "outputId": "146755e8-cec4-46a8-dc5c-6b7204e5fd79"
      },
      "outputs": [
        {
          "output_type": "stream",
          "name": "stdout",
          "text": [
            "|--- feature_2 <= 8.50\n",
            "|   |--- feature_2 <= 4.00\n",
            "|   |   |--- feature_0 <= 16.50\n",
            "|   |   |   |--- class: present\n",
            "|   |   |--- feature_0 >  16.50\n",
            "|   |   |   |--- class: absent\n",
            "|   |--- feature_2 >  4.00\n",
            "|   |   |--- class: present\n",
            "|--- feature_2 >  8.50\n",
            "|   |--- feature_1 <= 5.50\n",
            "|   |   |--- feature_0 <= 96.50\n",
            "|   |   |   |--- class: absent\n",
            "|   |   |--- feature_0 >  96.50\n",
            "|   |   |   |--- class: absent\n",
            "|   |--- feature_1 >  5.50\n",
            "|   |   |--- feature_0 <= 55.00\n",
            "|   |   |   |--- class: absent\n",
            "|   |   |--- feature_0 >  55.00\n",
            "|   |   |   |--- class: absent\n",
            "\n",
            "[[9 3]\n",
            " [5 0]]\n",
            "              precision    recall  f1-score   support\n",
            "\n",
            "      absent       0.64      0.75      0.69        12\n",
            "     present       0.00      0.00      0.00         5\n",
            "\n",
            "    accuracy                           0.53        17\n",
            "   macro avg       0.32      0.38      0.35        17\n",
            "weighted avg       0.45      0.53      0.49        17\n",
            "\n"
          ]
        }
      ],
      "source": [
        "import pandas as pd\n",
        "from sklearn.model_selection import train_test_split\n",
        "from sklearn.metrics import confusion_matrix,classification_report\n",
        "from sklearn.tree import DecisionTreeClassifier,export_text\n",
        "\n",
        "data=pd.read_csv(\"/content/drive/MyDrive/Colab Notebooks/kyphosis.csv\")\n",
        "\n",
        "X=data.drop('Kyphosis',axis=1)\n",
        "y=data['Kyphosis']\n",
        "\n",
        "X_train,X_test,y_train,y_test=train_test_split(X,y,test_size=0.2)\n",
        "\n",
        "model=DecisionTreeClassifier(random_state=0,max_depth=3)\n",
        "s=model.fit(X_train,y_train)\n",
        "s1=export_text(s)\n",
        "print(s1)\n",
        "\n",
        "y_pred=model.predict(X_test)\n",
        "\n",
        "print(confusion_matrix(y_test,y_pred))\n",
        "print(classification_report(y_test,y_pred))"
      ]
    }
  ]
}