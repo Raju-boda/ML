{
  "nbformat": 4,
  "nbformat_minor": 0,
  "metadata": {
    "colab": {
      "provenance": [],
      "authorship_tag": "ABX9TyOOF4pw9Wu9pZJAgWZ7G03S",
      "include_colab_link": true
    },
    "kernelspec": {
      "name": "python3",
      "display_name": "Python 3"
    },
    "language_info": {
      "name": "python"
    }
  },
  "cells": [
    {
      "cell_type": "markdown",
      "metadata": {
        "id": "view-in-github",
        "colab_type": "text"
      },
      "source": [
        "<a href=\"https://colab.research.google.com/github/Raju-boda/ML/blob/main/Linear%26Logistic.ipynb\" target=\"_parent\"><img src=\"https://colab.research.google.com/assets/colab-badge.svg\" alt=\"Open In Colab\"/></a>"
      ]
    },
    {
      "cell_type": "code",
      "execution_count": null,
      "metadata": {
        "colab": {
          "base_uri": "https://localhost:8080/",
          "height": 282
        },
        "id": "QlV5k2SI1NRu",
        "outputId": "d8167397-90b1-4735-dc30-1a7bc9002734"
      },
      "outputs": [
        {
          "output_type": "stream",
          "name": "stdout",
          "text": [
            "1.979486637221574\n"
          ]
        },
        {
          "output_type": "display_data",
          "data": {
            "text/plain": [
              "<Figure size 432x288 with 1 Axes>"
            ],
            "image/png": "[encoded data removed]"
          },
          "metadata": {
            "needs_background": "light"
          }
        }
      ],
      "source": [
        "import pandas as pd\n",
        "import numpy as np\n",
        "import matplotlib.pyplot as plt\n",
        "\n",
        "x=np.array([1,2,3,4,5,6])\n",
        "y=np.array([4,6,7,8,9,10])\n",
        "\n",
        "plt.plot(x,y,'o')\n",
        "m,b=np.polyfit(x,y,1)\n",
        "plt.plot(x,m*x+b)\n",
        "cor_mat=np.corrcoef(x,y)\n",
        "corr=cor_mat[0,1]\n",
        "R_sqr=corr*2\n",
        "print(R_sqr)"
      ]
    },
    {
      "cell_type": "code",
      "source": [
        "from sklearn import linear_model\n",
        "x=np.array([2,3,4,5,6,7,8]).reshape(-1,1)\n",
        "y=np.array([0,0,0,0,1,1,1])\n",
        "logr=linear_model.LogisticRegression()\n",
        "logr.fit(x,y)\n",
        "predicted=logr.predict(np.array([3.54]).reshape(-1,1))\n",
        "print(predicted)"
      ],
      "metadata": {
        "colab": {
          "base_uri": "https://localhost:8080/"
        },
        "id": "H5GBFP_y2W9M",
        "outputId": "cfebb0ec-0afe-4844-bdf9-b20aaa3adb97"
      },
      "execution_count": null,
      "outputs": [
        {
          "output_type": "stream",
          "name": "stdout",
          "text": [
            "[0]\n"
          ]
        }
      ]
    },
    {
      "cell_type": "code",
      "source": [
        "x=np.array([2,3,4,5,6,7,8]).reshape(-1,1)\n",
        "y=np.array([0,0,0,0,1,1,1])\n",
        "logr=linear_model.LogisticRegression()\n",
        "logr.fit(x,y)\n",
        "log_odds=logr.coef_\n",
        "odds=np.exp(log_odds)\n",
        "print(odds)"
      ],
      "metadata": {
        "colab": {
          "base_uri": "https://localhost:8080/"
        },
        "id": "0CbKyOj53OQJ",
        "outputId": "da61bdf5-8ab6-4c72-bb23-05c948cdc91e"
      },
      "execution_count": null,
      "outputs": [
        {
          "output_type": "stream",
          "name": "stdout",
          "text": [
            "[[3.14714976]]\n"
          ]
        }
      ]
    },
    {
      "cell_type": "code",
      "source": [
        "x=np.array([2,3,4,5,6,7,8]).reshape(-1,1)\n",
        "y=np.array([0,0,0,0,1,1,1])\n",
        "logr=linear_model.LogisticRegression()\n",
        "logr.fit(x,y)\n",
        "def logit2prob(logr,x):\n",
        "  log_odds=logr.coef_*x+logr.intercept_\n",
        "  odds=np.exp(log_odds)\n",
        "  probability=odds/(1+odds)\n",
        "  return probability\n",
        "print(logit2prob(logr,x))"
      ],
      "metadata": {
        "id": "ITiZ_FBf3Ob9",
        "colab": {
          "base_uri": "https://localhost:8080/"
        },
        "outputId": "68c0ec20-d98b-4c02-8d4e-aa4395cf2bec"
      },
      "execution_count": 8,
      "outputs": [
        {
          "output_type": "stream",
          "name": "stdout",
          "text": [
            "[[0.01739637]\n",
            " [0.0527776 ]\n",
            " [0.14919232]\n",
            " [0.35561385]\n",
            " [0.6346098 ]\n",
            " [0.84534417]\n",
            " [0.94506167]]\n"
          ]
        }
      ]
    }
  ]
}